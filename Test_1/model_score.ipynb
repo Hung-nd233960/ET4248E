{
 "cells": [
  {
   "cell_type": "markdown",
   "id": "de98df45",
   "metadata": {},
   "source": [
    "# Install dependencies and import:\n",
    "\n",
    "dependencies can be install via dependencies.yml"
   ]
  },
  {
   "cell_type": "code",
   "execution_count": 32,
   "id": "ac625c8d",
   "metadata": {
    "lines_to_next_cell": 2
   },
   "outputs": [],
   "source": [
    "import pandas as pd\n",
    "import numpy as np\n",
    "import matplotlib.pyplot as plt\n",
    "from sklearn.model_selection import train_test_split, KFold, cross_val_score\n",
    "from sklearn.linear_model import LinearRegression\n",
    "from sklearn.metrics import mean_squared_error, r2_score"
   ]
  },
  {
   "cell_type": "markdown",
   "id": "2e77f3f4",
   "metadata": {},
   "source": [
    "# Step 1: Load the data and split training and testing data"
   ]
  },
  {
   "cell_type": "markdown",
   "id": "8e733c1d",
   "metadata": {},
   "source": [
    "Loading the data and the data column we want. Previously, we see that Finals (CK), Progress (QT_y) is highly corelleated. So our model should focus on it first:"
   ]
  },
  {
   "cell_type": "code",
   "execution_count": 33,
   "id": "4e457c07",
   "metadata": {},
   "outputs": [],
   "source": [
    "df = pd.read_csv(\"data/output.csv\")\n",
    "df_copy = df.copy()\n",
    "X = df[[\"CK\", \"QT_y\"]]  # Features (Predictors)\n",
    "y = df[\"HP_grade\"]  # Target variable"
   ]
  },
  {
   "cell_type": "markdown",
   "id": "69508f32",
   "metadata": {},
   "source": [
    "Then, we split the training data:\n",
    "\n",
    "- 80% training data provides enough information for the model to learn patterns effectively.\n",
    "- 20% test data ensures a reliable estimate of how the model performs on unseen data."
   ]
  },
  {
   "cell_type": "code",
   "execution_count": 34,
   "id": "e640fde4",
   "metadata": {},
   "outputs": [],
   "source": [
    "# Split data into training (80%) and testing (20%) sets\n",
    "X_train, X_test, y_train, y_test = train_test_split(\n",
    "    X, y, test_size=0.2, random_state=42\n",
    ")"
   ]
  },
  {
   "cell_type": "markdown",
   "id": "82d9a4e1",
   "metadata": {},
   "source": [
    "We take a small peek to the training and testing dataset to see if spliting and choosing sucesss:"
   ]
  },
  {
   "cell_type": "code",
   "execution_count": 35,
   "id": "32c95480",
   "metadata": {},
   "outputs": [
    {
     "name": "stdout",
     "output_type": "stream",
     "text": [
      "(131, 2)\n",
      "(131,)\n",
      "(33, 2)\n",
      "(33,)\n",
      "     CK  QT_y\n",
      "84  6.5   6.5\n",
      "2   9.5   8.5\n",
      "94  9.0   7.0\n",
      "45  6.0   5.5\n",
      "42  6.5   7.5\n",
      "84    6.5\n",
      "2     9.2\n",
      "94    8.4\n",
      "45    5.9\n",
      "42    6.8\n",
      "Name: HP_grade, dtype: float64\n",
      "      CK  QT_y\n",
      "135  7.5   7.5\n",
      "115  6.5   7.5\n",
      "131  8.0   6.5\n",
      "55   6.0   7.5\n",
      "95   6.5   7.5\n",
      "135    7.5\n",
      "115    6.8\n",
      "131    7.6\n",
      "55     6.5\n",
      "95     6.8\n",
      "Name: HP_grade, dtype: float64\n"
     ]
    }
   ],
   "source": [
    "print(X_train.shape)\n",
    "print(y_train.shape)\n",
    "print(X_test.shape)\n",
    "print(y_test.shape)\n",
    "print(X_train.head())\n",
    "print(y_train.head())\n",
    "print(X_test.head())\n",
    "print(y_test.head())"
   ]
  },
  {
   "cell_type": "markdown",
   "id": "f0367901",
   "metadata": {},
   "source": [
    "There are 131 samples for training and 33 for testing."
   ]
  },
  {
   "cell_type": "markdown",
   "id": "85695f59",
   "metadata": {},
   "source": [
    "# Step 2: Initialize and train the model:"
   ]
  },
  {
   "cell_type": "markdown",
   "id": "4cac5723",
   "metadata": {},
   "source": [
    "Then, we initiate the learning model:"
   ]
  },
  {
   "cell_type": "code",
   "execution_count": 36,
   "id": "f23308b5",
   "metadata": {},
   "outputs": [],
   "source": [
    "# Train the Linear Regression model\n",
    "lr = LinearRegression()\n",
    "lr.fit(X_train, y_train)\n",
    "# Predict on the test set\n",
    "y_pred = lr.predict(X_test)\n"
   ]
  },
  {
   "cell_type": "markdown",
   "id": "80c0feae",
   "metadata": {},
   "source": [
    "We can get regression coefficients with ```lr.coef_``` and ```lr.intercept_```"
   ]
  },
  {
   "cell_type": "code",
   "execution_count": 37,
   "id": "b958ed25",
   "metadata": {},
   "outputs": [
    {
     "name": "stdout",
     "output_type": "stream",
     "text": [
      "  Feature  Coefficient\n",
      "0      CK     0.701524\n",
      "1    QT_y     0.296688\n",
      "Intercept: 0.032323621783088896\n"
     ]
    }
   ],
   "source": [
    "# Get the coefficients (slope values for each feature)\n",
    "coeff_df = pd.DataFrame({'Feature': X_train.columns, 'Coefficient': lr.coef_})\n",
    "print(coeff_df)\n",
    "\n",
    "# Get the intercept (y-intercept)\n",
    "intercept = lr.intercept_\n",
    "\n",
    "print(\"Intercept:\", intercept)"
   ]
  },
  {
   "cell_type": "markdown",
   "id": "15977811",
   "metadata": {},
   "source": [
    "# Step 3: Grading model "
   ]
  },
  {
   "cell_type": "markdown",
   "id": "9067745c",
   "metadata": {},
   "source": [
    "We evaluate model performance using mean squared error, root mean squared error and R^2."
   ]
  },
  {
   "cell_type": "code",
   "execution_count": 38,
   "id": "8569270a",
   "metadata": {},
   "outputs": [
    {
     "name": "stdout",
     "output_type": "stream",
     "text": [
      "Mean Squared Error: 0.000718\n",
      "Root Mean Squared Error: 0.0268\n",
      "R-squared (R²): 0.9996\n"
     ]
    }
   ],
   "source": [
    "# Evaluate model performance\n",
    "mse = mean_squared_error(y_test, y_pred)\n",
    "rmse = np.sqrt(mse)\n",
    "r2 = r2_score(y_test, y_pred)\n",
    "print(f\"Mean Squared Error: {mse:.6f}\")\n",
    "print(f\"Root Mean Squared Error: {rmse:.4f}\")\n",
    "print(f\"R-squared (R²): {r2:.4f}\")"
   ]
  },
  {
   "cell_type": "code",
   "execution_count": 39,
   "id": "4c34b3f6",
   "metadata": {},
   "outputs": [
    {
     "data": {
      "image/png": "[encoded data removed]",
      "text/plain": [
       "<Figure size 640x480 with 1 Axes>"
      ]
     },
     "metadata": {},
     "output_type": "display_data"
    }
   ],
   "source": [
    "# Visualize actual vs predicted\n",
    "plt.scatter(y_test, y_pred, color=\"crimson\", alpha=0.6, edgecolors=\"black\")\n",
    "plt.xlabel(\"Actual HP_Grade\")\n",
    "plt.ylabel(\"Predicted HP_Grade\")\n",
    "plt.title(\"Actual vs Predicted HP_Grade\")\n",
    "plt.grid(True, linestyle=\"--\", alpha=0.5)\n",
    "plt.show()"
   ]
  },
  {
   "cell_type": "markdown",
   "id": "d1948d00",
   "metadata": {},
   "source": [
    "## Overall, models work exceptionally well. With R value very close to 1 and the grade only deviate at the rate of 0.0268 in scale of 10"
   ]
  },
  {
   "cell_type": "markdown",
   "id": "7928ef05",
   "metadata": {},
   "source": [
    "# Step 4: Optimization"
   ]
  },
  {
   "cell_type": "markdown",
   "id": "5e8077da",
   "metadata": {},
   "source": [
    "## Approach 1: Anomaly removal"
   ]
  },
  {
   "cell_type": "markdown",
   "id": "a4d377f5",
   "metadata": {},
   "source": [
    "In EDA, we have seen some anomalies across the columns, let's try to remove them:\n"
   ]
  },
  {
   "cell_type": "code",
   "execution_count": 40,
   "id": "e884f2fe",
   "metadata": {},
   "outputs": [],
   "source": [
    "df = df[df[\"HP_grade\"] >= 3]\n",
    "df = df[df[\"QT_x\"] >= 3]\n",
    "#df = df[df[\"QT_y\"] >= 3]\n",
    "#df = df[df[\"KT3\"] >= 2]\n",
    "#df = df[df[\"KT1\"] >= 3]\n",
    "#df = df[df[\"BC\"] >= 4]"
   ]
  },
  {
   "cell_type": "code",
   "execution_count": 41,
   "id": "8e4f3307",
   "metadata": {},
   "outputs": [],
   "source": [
    "X = df[[\"CK\", \"QT_x\"]]  # Features (Predictors)\n",
    "y = df[\"HP_grade\"]  # Target variable\n",
    "\n",
    "# Split data into training (80%) and testing (20%) sets\n",
    "X_train, X_test, y_train, y_test = train_test_split(\n",
    "    X, y, test_size=0.2, random_state=42\n",
    ")"
   ]
  },
  {
   "cell_type": "code",
   "execution_count": 42,
   "id": "42dd8ae0",
   "metadata": {},
   "outputs": [],
   "source": [
    "# Train the Linear Regression model\n",
    "lr = LinearRegression()\n",
    "lr.fit(X_train, y_train)\n",
    "# Predict on the test set\n",
    "y_pred = lr.predict(X_test)"
   ]
  },
  {
   "cell_type": "code",
   "execution_count": 43,
   "id": "5a976fc4",
   "metadata": {},
   "outputs": [],
   "source": [
    "# Evaluate model performance\n",
    "mse = mean_squared_error(y_test, y_pred)\n",
    "rmse = np.sqrt(mse)\n",
    "r2 = r2_score(y_test, y_pred)"
   ]
  },
  {
   "cell_type": "code",
   "execution_count": 44,
   "id": "d016c03c",
   "metadata": {},
   "outputs": [
    {
     "name": "stdout",
     "output_type": "stream",
     "text": [
      "Mean Squared Error: 0.0021\n",
      "Root Mean Squared Error: 0.0461\n",
      "R-squared (R²): 0.9986\n"
     ]
    }
   ],
   "source": [
    "print(f\"Mean Squared Error: {mse:.4f}\")\n",
    "print(f\"Root Mean Squared Error: {rmse:.4f}\")\n",
    "print(f\"R-squared (R²): {r2:.4f}\")"
   ]
  },
  {
   "cell_type": "markdown",
   "id": "c0d2736a",
   "metadata": {},
   "source": [
    "We see that reducing anomalies make model worse. We have deleted valuable data."
   ]
  },
  {
   "cell_type": "code",
   "execution_count": 45,
   "id": "2487c1ce",
   "metadata": {},
   "outputs": [
    {
     "data": {
      "image/png": "[encoded data removed]",
      "text/plain": [
       "<Figure size 640x480 with 1 Axes>"
      ]
     },
     "metadata": {},
     "output_type": "display_data"
    }
   ],
   "source": [
    "# Visualize actual vs predicted\n",
    "plt.scatter(y_test, y_pred, color=\"crimson\", alpha=0.6, edgecolors=\"black\")\n",
    "plt.xlabel(\"Actual HP_Grade\")\n",
    "plt.ylabel(\"Predicted HP_Grade\")\n",
    "plt.title(\"Actual vs Predicted HP_Grade\")\n",
    "plt.grid(True, linestyle=\"--\", alpha=0.5)\n",
    "plt.show()"
   ]
  },
  {
   "cell_type": "markdown",
   "id": "5c855a0d",
   "metadata": {},
   "source": [
    "## Approach 2: Apply K-Fold training\n",
    "\n",
    "- K-Fold Cross-Validation is a technique used to evaluate a model's performance by splitting the dataset into K equal parts (folds) and training the model multiple times on different subsets of the data.\n",
    "\n",
    "1. How Does K-Fold Work?\n",
    "- Divide the dataset into K folds\n",
    "- If K=5, the dataset is split into 5 equal parts. Train the model K times\n",
    "- Each time, use K-1 folds for training and 1 fold for testing. Compute the average performance\n",
    "- The final result is the mean of all K test scores, giving a more reliable estimate of model performance.\n",
    "2. Why Use K-Fold?\n",
    "- Reduces Bias → Uses all data for both training & testing.\n",
    "- More Reliable → Reduces dependency on a single train-test split.\n",
    "- Better for Small Datasets → Maximizes data usage."
   ]
  },
  {
   "cell_type": "code",
   "execution_count": 46,
   "id": "48675b80",
   "metadata": {},
   "outputs": [
    {
     "name": "stdout",
     "output_type": "stream",
     "text": [
      "MSE Scores for each fold: [0.00071783 0.00078797 0.00073673 0.00074249 0.00076185]\n",
      "Average MSE: 0.0007493749517986849\n",
      "Standard Deviation of MSE: 2.386456235010309e-05\n"
     ]
    }
   ],
   "source": [
    "X = df_copy[[\"CK\", \"QT_y\"]]  # Features (Predictors)\n",
    "y = df_copy[\"HP_grade\"]  # Target variable\n",
    "\n",
    "kf = KFold(n_splits=5, shuffle=True, random_state=42)  # 5-Fold CV\n",
    "model = LinearRegression()\n",
    "\n",
    "# Perform Cross-Validation\n",
    "mse_scores = cross_val_score(model, X, y, cv=kf, scoring='neg_mean_squared_error')\n",
    "\n",
    "# Convert to positive MSE values\n",
    "mse_scores = -mse_scores\n",
    "\n",
    "# Print results\n",
    "print(f'MSE Scores for each fold: {mse_scores}')\n",
    "print(f'Average MSE: {np.mean(mse_scores)}')\n",
    "print(f'Standard Deviation of MSE: {np.std(mse_scores)}')\n"
   ]
  },
  {
   "cell_type": "markdown",
   "id": "5253fda5",
   "metadata": {},
   "source": [
    "The average MSE is worse than original model's MSE."
   ]
  }
 ],
 "metadata": {
  "jupytext": {
   "cell_metadata_filter": "-all",
   "main_language": "python",
   "notebook_metadata_filter": "-all"
  },
  "kernelspec": {
   "display_name": "Python 3",
   "language": "python",
   "name": "python3"
  },
  "language_info": {
   "codemirror_mode": {
    "name": "ipython",
    "version": 3
   },
   "file_extension": ".py",
   "mimetype": "text/x-python",
   "name": "python",
   "nbconvert_exporter": "python",
   "pygments_lexer": "ipython3",
   "version": "3.12.8"
  }
 },
 "nbformat": 4,
 "nbformat_minor": 5
}
